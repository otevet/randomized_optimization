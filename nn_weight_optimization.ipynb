{
 "cells": [
  {
   "cell_type": "code",
   "execution_count": 11,
   "id": "collected-generator",
   "metadata": {},
   "outputs": [],
   "source": [
    "#!pip install mlrose_hiive\n",
    "#!pip install pickle5"
   ]
  },
  {
   "cell_type": "code",
   "execution_count": 12,
   "id": "piano-promise",
   "metadata": {},
   "outputs": [],
   "source": [
    "# Part 2: Find optimal weights for neural networks and compare performance\n",
    "# See MLRose documentation for source\n",
    "\n",
    "import time\n",
    "import mlrose_hiive as mlrose\n",
    "import pandas as pd\n",
    "from sklearn import preprocessing\n",
    "from sklearn.model_selection import train_test_split\n",
    "from sklearn.metrics import f1_score\n",
    "import pickle5 as pickle\n",
    "import matplotlib.pyplot as plt\n",
    "import numpy as np\n",
    "%config InlineBackend.figure_format='retina'\n",
    "\n",
    "random_seed = 42"
   ]
  },
  {
   "cell_type": "code",
   "execution_count": 13,
   "id": "right-arena",
   "metadata": {},
   "outputs": [
    {
     "name": "stdout",
     "output_type": "stream",
     "text": [
      "number of training samples:  2520\n",
      "number of test samples:  630\n"
     ]
    }
   ],
   "source": [
    "def import_dataset2():\n",
    "    #X, y = pd.read_pickle('X2.pkl'), pd.read_pickle('y2.pkl')\n",
    "    with open('X2.pkl', \"rb\") as fh:\n",
    "        X = pickle.load(fh)\n",
    "    with open('y2.pkl', \"rb\") as fh:\n",
    "        y = pickle.load(fh)\n",
    "    X_train, X_test, y_train, y_test = train_test_split(X, y, test_size=0.20, stratify=y, random_state=42)\n",
    "\n",
    "    print(\"number of training samples: \", len(X_train))\n",
    "    print(\"number of test samples: \", len(y_test))\n",
    "    return X_train, X_test, y_train, y_test\n",
    "\n",
    "# import dataset 2 from pickle files\n",
    "X_train, X_test, y_train, y_test = import_dataset2()\n",
    "\n",
    "scaler = preprocessing.StandardScaler()\n",
    "X_train_std = scaler.fit_transform(X_train)\n",
    "X_test_std = scaler.transform(X_test)"
   ]
  },
  {
   "cell_type": "code",
   "execution_count": 14,
   "id": "furnished-walter",
   "metadata": {},
   "outputs": [
    {
     "name": "stdout",
     "output_type": "stream",
     "text": [
      "\n",
      "time to run GD 2.066 seconds\n",
      "Gradient Descent:\n",
      "y_train_F1: 0.899\n",
      "y_test_F1: 0.892\n",
      "\n"
     ]
    }
   ],
   "source": [
    "# Gradient descent algorithm\n",
    "nn_rhc_gd = mlrose.NeuralNetwork(hidden_nodes=[3],\n",
    "                                 curve=True,\n",
    "                                 activation='relu',\n",
    "                                 algorithm='gradient_descent',\n",
    "                                 max_iters=512,\n",
    "                                 bias=True,\n",
    "                                 learning_rate=0.001,\n",
    "                                 early_stopping=True,\n",
    "                                 max_attempts=100,\n",
    "                                 random_state=random_seed)\n",
    "\n",
    "start_time = time.time()\n",
    "nn_rhc_gd.fit(X_train_std, y_train)\n",
    "sgd_runtime = (time.time() - start_time)\n",
    "print(\"\")\n",
    "print(f'time to run GD {sgd_runtime:.3f} seconds')\n",
    "\n",
    "# Predict labels for train set and evaluate results\n",
    "print(\"Gradient Descent:\")\n",
    "y_train_pred_grad_desc = nn_rhc_gd.predict(X_train_std)\n",
    "y_train_f1_gd = round(f1_score(y_train, y_train_pred_grad_desc, average='weighted'), 3)\n",
    "\n",
    "print(\"y_train_F1:\", y_train_f1_gd)\n",
    "\n",
    "# Predict labels for test set and evaluate results\n",
    "y_test_pred_grad_desc = nn_rhc_gd.predict(X_test_std)\n",
    "y_test_f1_gd = round(f1_score(y_test, y_test_pred_grad_desc, average='weighted'), 3)\n",
    "\n",
    "print(\"y_test_F1:\", y_test_f1_gd)\n",
    "print(\"\")"
   ]
  },
  {
   "cell_type": "code",
   "execution_count": 15,
   "id": "great-madonna",
   "metadata": {},
   "outputs": [
    {
     "name": "stdout",
     "output_type": "stream",
     "text": [
      "\n",
      "time to run RHC 107.727 seconds\n",
      "Random Hill Climb:\n",
      "y_train_f1_rhc: 0.725\n",
      "y_test_f1_rhc: 0.735\n",
      "\n"
     ]
    }
   ],
   "source": [
    "nn_rhc = mlrose.NeuralNetwork(hidden_nodes=[3],\n",
    "                              curve=True,\n",
    "                              activation='relu',\n",
    "                              algorithm='random_hill_climb',\n",
    "                              max_iters=512,\n",
    "                              bias=True,\n",
    "                              restarts=75,\n",
    "                              learning_rate=0.001,\n",
    "                              early_stopping=True,\n",
    "                              max_attempts=100,\n",
    "                              random_state=random_seed)\n",
    "\n",
    "start_time = time.time()\n",
    "nn_rhc.fit(X_train_std, y_train)\n",
    "rhc_runtime = (time.time() - start_time)\n",
    "print(\"\")\n",
    "print(f'time to run RHC {rhc_runtime:.3f} seconds')\n",
    "\n",
    "# Predict labels for train set and evaluate results\n",
    "print(\"Random Hill Climb:\")\n",
    "y_train_pred_rhc = nn_rhc.predict(X_train_std)\n",
    "y_train_f1_rhc = round(f1_score(y_train, y_train_pred_rhc, average='weighted'), 3)\n",
    "\n",
    "print(\"y_train_f1_rhc:\", y_train_f1_rhc)\n",
    "\n",
    "# Predict labels for test set and evaluate results\n",
    "y_test_pred_rhc = nn_rhc.predict(X_test_std)\n",
    "y_test_f1_rhc = round(f1_score(y_test, y_test_pred_rhc, average='weighted'), 3)\n",
    "\n",
    "print(\"y_test_f1_rhc:\", y_test_f1_rhc)\n",
    "print(\"\")"
   ]
  },
  {
   "cell_type": "code",
   "execution_count": 16,
   "id": "applicable-edgar",
   "metadata": {},
   "outputs": [
    {
     "name": "stdout",
     "output_type": "stream",
     "text": [
      "\n",
      "time to run SA: 1.929 seconds\n",
      "Simulated Annealing:\n",
      "y_train_F1: 0.721\n",
      "y_test_F:1 0.733\n",
      "\n"
     ]
    }
   ],
   "source": [
    "nn_sa = mlrose.NeuralNetwork(hidden_nodes=[3],\n",
    "                             curve=True,\n",
    "                             activation='relu',\n",
    "                             algorithm='simulated_annealing',\n",
    "                             max_iters=512,\n",
    "                             bias=True,\n",
    "                             learning_rate=0.001,\n",
    "                             early_stopping=True,\n",
    "                             max_attempts=100,\n",
    "                             random_state=random_seed)\n",
    "\n",
    "start_time = time.time()\n",
    "nn_sa.fit(X_train_std, y_train)\n",
    "sa_runtime = (time.time() - start_time)\n",
    "print(\"\")\n",
    "print(f'time to run SA: {sa_runtime:.3f} seconds')\n",
    "\n",
    "# Predict labels for train set and evaluate results\n",
    "print(\"Simulated Annealing:\")\n",
    "y_train_pred_sa = nn_sa.predict(X_train_std)\n",
    "\n",
    "y_train_f1_sa = round(f1_score(y_train, y_train_pred_sa, average='weighted'), 3)\n",
    "\n",
    "print(\"y_train_F1:\", y_train_f1_sa)\n",
    "\n",
    "# Predict labels for test set and evaluate results\n",
    "y_test_pred_sa = nn_sa.predict(X_test_std)\n",
    "y_test_f1_sa = round(f1_score(y_test, y_test_pred_sa, average='weighted'), 3)\n",
    "\n",
    "print(\"y_test_F:1\", y_test_f1_sa)\n",
    "\n",
    "print(\"\")"
   ]
  },
  {
   "cell_type": "code",
   "execution_count": 17,
   "id": "personalized-facial",
   "metadata": {},
   "outputs": [
    {
     "name": "stdout",
     "output_type": "stream",
     "text": [
      "\n",
      "time to run GA: 154.176 seconds\n",
      "Genetic Algorithm:\n",
      "y_train f1: 0.771\n",
      "y_test f1: 0.771\n"
     ]
    }
   ],
   "source": [
    "nn_ga = mlrose.NeuralNetwork(hidden_nodes=[3],\n",
    "                             activation='relu',\n",
    "                             curve=True,\n",
    "                             algorithm='genetic_alg',\n",
    "                             max_iters=512,\n",
    "                             bias=True,\n",
    "                             learning_rate=0.001,\n",
    "                             early_stopping=True,\n",
    "                             max_attempts=100,\n",
    "                             random_state=random_seed)\n",
    "\n",
    "start_time = time.time()\n",
    "nn_ga.fit(X_train_std, y_train)\n",
    "ga_runtime = (time.time() - start_time)\n",
    "print(\"\")\n",
    "print(f'time to run GA: {ga_runtime:.3f} seconds')\n",
    "\n",
    "# Predict labels for train set and evaluate results\n",
    "print(\"Genetic Algorithm:\")\n",
    "y_train_pred_ga = nn_ga.predict(X_train_std)\n",
    "y_train_f1_ga = round(f1_score(y_train, y_train_pred_ga, average='weighted'), 3)\n",
    "print(\"y_train f1:\", y_train_f1_ga)\n",
    "\n",
    "# Predict labels for test set and evaluate results\n",
    "y_test_pred_ga = nn_ga.predict(X_test_std)\n",
    "y_test_f1_ga = round(f1_score(y_test, y_test_pred_ga, average='weighted'), 3)\n",
    "print(\"y_test f1:\", y_test_f1_ga)"
   ]
  },
  {
   "cell_type": "code",
   "execution_count": 18,
   "id": "wireless-original",
   "metadata": {},
   "outputs": [],
   "source": [
    "ga = [i[0] for i in nn_ga.fitness_curve]\n",
    "\n",
    "def pad_or_truncate(some_list, target_len):\n",
    "    return some_list[:target_len] + [np.nan]*(target_len - len(some_list))\n",
    "\n",
    "ga_long = pad_or_truncate(ga,512)"
   ]
  },
  {
   "cell_type": "code",
   "execution_count": 21,
   "id": "indirect-question",
   "metadata": {},
   "outputs": [],
   "source": [
    "#convergence_df['GD'].plot()"
   ]
  },
  {
   "cell_type": "code",
   "execution_count": 25,
   "id": "completed-polish",
   "metadata": {},
   "outputs": [
    {
     "data": {
      "image/png": "[encoded data removed]",
      "text/plain": [
       "<Figure size 432x288 with 1 Axes>"
      ]
     },
     "metadata": {
      "image/png": {
       "height": 261,
       "width": 385
      },
      "needs_background": "light"
     },
     "output_type": "display_data"
    }
   ],
   "source": [
    "convergence_df = pd.DataFrame()\n",
    "convergence_df['GD'] = nn_rhc_gd.fitness_curve\n",
    "convergence_df['GD'] = convergence_df['GD'] * -1\n",
    "convergence_df['RHC'] = [i[0] for i in nn_rhc.fitness_curve]\n",
    "convergence_df['SA'] = [i[0] for i in nn_sa.fitness_curve]\n",
    "convergence_df['GA'] = ga_long\n",
    "convergence_df.plot()\n",
    "plt.xlabel('Iteration')\n",
    "plt.ylabel('Fitness');\n",
    "\n"
   ]
  },
  {
   "cell_type": "code",
   "execution_count": 23,
   "id": "twelve-marshall",
   "metadata": {},
   "outputs": [
    {
     "data": {
      "text/html": [
       "<div>\n",
       "<style scoped>\n",
       "    .dataframe tbody tr th:only-of-type {\n",
       "        vertical-align: middle;\n",
       "    }\n",
       "\n",
       "    .dataframe tbody tr th {\n",
       "        vertical-align: top;\n",
       "    }\n",
       "\n",
       "    .dataframe thead th {\n",
       "        text-align: right;\n",
       "    }\n",
       "</style>\n",
       "<table border=\"1\" class=\"dataframe\">\n",
       "  <thead>\n",
       "    <tr style=\"text-align: right;\">\n",
       "      <th></th>\n",
       "      <th>Train Runtimes (seconds)</th>\n",
       "      <th>Train F1</th>\n",
       "      <th>Test F1</th>\n",
       "    </tr>\n",
       "  </thead>\n",
       "  <tbody>\n",
       "    <tr>\n",
       "      <th>SGD</th>\n",
       "      <td>2.065503</td>\n",
       "      <td>0.899</td>\n",
       "      <td>0.892</td>\n",
       "    </tr>\n",
       "    <tr>\n",
       "      <th>RHC</th>\n",
       "      <td>107.727262</td>\n",
       "      <td>0.725</td>\n",
       "      <td>0.735</td>\n",
       "    </tr>\n",
       "    <tr>\n",
       "      <th>SA</th>\n",
       "      <td>1.928535</td>\n",
       "      <td>0.721</td>\n",
       "      <td>0.733</td>\n",
       "    </tr>\n",
       "    <tr>\n",
       "      <th>GA</th>\n",
       "      <td>154.176349</td>\n",
       "      <td>0.771</td>\n",
       "      <td>0.771</td>\n",
       "    </tr>\n",
       "  </tbody>\n",
       "</table>\n",
       "</div>"
      ],
      "text/plain": [
       "     Train Runtimes (seconds)  Train F1  Test F1\n",
       "SGD                  2.065503     0.899    0.892\n",
       "RHC                107.727262     0.725    0.735\n",
       "SA                   1.928535     0.721    0.733\n",
       "GA                 154.176349     0.771    0.771"
      ]
     },
     "execution_count": 23,
     "metadata": {},
     "output_type": "execute_result"
    }
   ],
   "source": [
    "runtimes = {'SGD': sgd_runtime, 'RHC': rhc_runtime, 'SA': sa_runtime, 'GA':ga_runtime}\n",
    "runtimes_df = pd.DataFrame.from_dict(runtimes,orient='index')\n",
    "runtimes_df.columns = ['Train Runtimes (seconds)']\n",
    "\n",
    "runtimes_df['Train F1'] = y_train_f1_gd, y_train_f1_rhc, y_train_f1_sa, y_train_f1_ga\n",
    "runtimes_df['Test F1'] = y_test_f1_gd, y_test_f1_rhc, y_test_f1_sa, y_test_f1_ga\n",
    "\n",
    "runtimes_df"
   ]
  },
  {
   "cell_type": "code",
   "execution_count": null,
   "id": "appointed-rover",
   "metadata": {},
   "outputs": [],
   "source": []
  },
  {
   "cell_type": "code",
   "execution_count": null,
   "id": "killing-stream",
   "metadata": {},
   "outputs": [],
   "source": []
  }
 ],
 "metadata": {
  "kernelspec": {
   "display_name": "conda_tensorflow_p36",
   "language": "python",
   "name": "conda_tensorflow_p36"
  },
  "language_info": {
   "codemirror_mode": {
    "name": "ipython",
    "version": 3
   },
   "file_extension": ".py",
   "mimetype": "text/x-python",
   "name": "python",
   "nbconvert_exporter": "python",
   "pygments_lexer": "ipython3",
   "version": "3.6.13"
  }
 },
 "nbformat": 4,
 "nbformat_minor": 5
}
